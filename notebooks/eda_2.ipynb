{
 "cells": [
  {
   "cell_type": "code",
   "execution_count": 81,
   "metadata": {},
   "outputs": [
    {
     "data": {
      "text/html": [
       "\n",
       "            <div id=\"vcG1IU\"></div>\n",
       "            <script type=\"text/javascript\" data-lets-plot-script=\"library\">\n",
       "                if(!window.letsPlotCallQueue) {\n",
       "                    window.letsPlotCallQueue = [];\n",
       "                }; \n",
       "                window.letsPlotCall = function(f) {\n",
       "                    window.letsPlotCallQueue.push(f);\n",
       "                };\n",
       "                (function() {\n",
       "                    var script = document.createElement(\"script\");\n",
       "                    script.type = \"text/javascript\";\n",
       "                    script.src = \"https://cdn.jsdelivr.net/gh/JetBrains/lets-plot@v3.1.0/js-package/distr/lets-plot.min.js\";\n",
       "                    script.onload = function() {\n",
       "                        window.letsPlotCall = function(f) {f();};\n",
       "                        window.letsPlotCallQueue.forEach(function(f) {f();});\n",
       "                        window.letsPlotCallQueue = [];\n",
       "                        \n",
       "                    };\n",
       "                    script.onerror = function(event) {\n",
       "                        window.letsPlotCall = function(f) {};    // noop\n",
       "                        window.letsPlotCallQueue = [];\n",
       "                        var div = document.createElement(\"div\");\n",
       "                        div.style.color = 'darkred';\n",
       "                        div.textContent = 'Error loading Lets-Plot JS';\n",
       "                        document.getElementById(\"vcG1IU\").appendChild(div);\n",
       "                    };\n",
       "                    var e = document.getElementById(\"vcG1IU\");\n",
       "                    e.appendChild(script);\n",
       "                })()\n",
       "            </script>\n",
       "            "
      ]
     },
     "metadata": {},
     "output_type": "display_data"
    }
   ],
   "source": [
    "from lets_plot import *\n",
    "from lets_plot.mapping import as_discrete\n",
    "import polars as pl\n",
    "import calendar\n",
    "from datetime import date, datetime\n",
    "\n",
    "LetsPlot.setup_html()"
   ]
  },
  {
   "cell_type": "code",
   "execution_count": 6,
   "metadata": {},
   "outputs": [],
   "source": [
    "train_data = pl.read_csv(\"data/pog-sleep-data/train.csv\")\n",
    "train_data_dt = train_data.with_columns([pl.col(\"date\").str.strptime(pl.Datetime, fmt=\"%Y-%m-%d\")])"
   ]
  },
  {
   "cell_type": "code",
   "execution_count": 9,
   "metadata": {},
   "outputs": [
    {
     "data": {
      "text/html": [
       "<div><style>\n",
       ".dataframe > thead > tr > th,\n",
       ".dataframe > tbody > tr > td {\n",
       "  text-align: right;\n",
       "}\n",
       "</style>\n",
       "<small>shape: (5, 5)</small><table border=\"1\" class=\"dataframe\"><thead><tr><th>date</th><th>sleep_hours</th><th>year</th><th>month</th><th>day</th></tr><tr><td>datetime[μs]</td><td>f64</td><td>i32</td><td>u32</td><td>u32</td></tr></thead><tbody><tr><td>2015-02-19 00:00:00</td><td>6.4</td><td>2015</td><td>2</td><td>19</td></tr><tr><td>2015-02-20 00:00:00</td><td>7.583333</td><td>2015</td><td>2</td><td>20</td></tr><tr><td>2015-02-21 00:00:00</td><td>6.35</td><td>2015</td><td>2</td><td>21</td></tr><tr><td>2015-02-22 00:00:00</td><td>6.5</td><td>2015</td><td>2</td><td>22</td></tr><tr><td>2015-02-23 00:00:00</td><td>8.916667</td><td>2015</td><td>2</td><td>23</td></tr></tbody></table></div>"
      ],
      "text/plain": [
       "shape: (5, 5)\n",
       "┌─────────────────────┬─────────────┬──────┬───────┬─────┐\n",
       "│ date                ┆ sleep_hours ┆ year ┆ month ┆ day │\n",
       "│ ---                 ┆ ---         ┆ ---  ┆ ---   ┆ --- │\n",
       "│ datetime[μs]        ┆ f64         ┆ i32  ┆ u32   ┆ u32 │\n",
       "╞═════════════════════╪═════════════╪══════╪═══════╪═════╡\n",
       "│ 2015-02-19 00:00:00 ┆ 6.4         ┆ 2015 ┆ 2     ┆ 19  │\n",
       "│ 2015-02-20 00:00:00 ┆ 7.583333    ┆ 2015 ┆ 2     ┆ 20  │\n",
       "│ 2015-02-21 00:00:00 ┆ 6.35        ┆ 2015 ┆ 2     ┆ 21  │\n",
       "│ 2015-02-22 00:00:00 ┆ 6.5         ┆ 2015 ┆ 2     ┆ 22  │\n",
       "│ 2015-02-23 00:00:00 ┆ 8.916667    ┆ 2015 ┆ 2     ┆ 23  │\n",
       "└─────────────────────┴─────────────┴──────┴───────┴─────┘"
      ]
     },
     "execution_count": 9,
     "metadata": {},
     "output_type": "execute_result"
    }
   ],
   "source": [
    "train_data_dt_plot = train_data_dt.with_columns(\n",
    "    [\n",
    "        pl.col(\"date\").dt.year().alias(\"year\"),\n",
    "        pl.col(\"date\").dt.month().alias(\"month\"),\n",
    "        pl.col(\"date\").dt.day().alias(\"day\"),\n",
    "    ]\n",
    ")\n",
    "\n",
    "train_data_dt_plot.head()"
   ]
  },
  {
   "cell_type": "code",
   "execution_count": 11,
   "metadata": {},
   "outputs": [
    {
     "name": "stdout",
     "output_type": "stream",
     "text": [
      "Rows: 2354\n",
      "Columns: 5\n",
      "$ date        <datetime[μs]> 2015-02-19 00:00:00, 2015-02-20 00:00:00, 2015-02-21 00:00:00, 2015-02-22 00:00:00, 2015-02-23 00:00:00, 2015-02-24 00:00:00, 2015-02-25 00:00:00, 2015-02-26 00:00:00, 2015-02-27 00:00:00, 2015-02-28 00:00:00\n",
      "$ sleep_hours          <f64> 6.4, 7.583333333333333, 6.35, 6.5, 8.916666666666666, 6.6, 6.216666666666667, 5.283333333333333, 9.866666666666667, 5.966666666666667\n",
      "$ year                 <i32> 2015, 2015, 2015, 2015, 2015, 2015, 2015, 2015, 2015, 2015\n",
      "$ month                <u32> 2, 2, 2, 2, 2, 2, 2, 2, 2, 2\n",
      "$ day                  <u32> 19, 20, 21, 22, 23, 24, 25, 26, 27, 28\n",
      "\n"
     ]
    }
   ],
   "source": [
    "train_data_dt_plot.glimpse()"
   ]
  },
  {
   "cell_type": "code",
   "execution_count": 14,
   "metadata": {},
   "outputs": [
    {
     "data": {
      "text/html": [
       "<div><style>\n",
       ".dataframe > thead > tr > th,\n",
       ".dataframe > tbody > tr > td {\n",
       "  text-align: right;\n",
       "}\n",
       "</style>\n",
       "<small>shape: (1, 5)</small><table border=\"1\" class=\"dataframe\"><thead><tr><th>date</th><th>sleep_hours</th><th>year</th><th>month</th><th>day</th></tr><tr><td>u32</td><td>u32</td><td>u32</td><td>u32</td><td>u32</td></tr></thead><tbody><tr><td>0</td><td>0</td><td>0</td><td>0</td><td>0</td></tr></tbody></table></div>"
      ],
      "text/plain": [
       "shape: (1, 5)\n",
       "┌──────┬─────────────┬──────┬───────┬─────┐\n",
       "│ date ┆ sleep_hours ┆ year ┆ month ┆ day │\n",
       "│ ---  ┆ ---         ┆ ---  ┆ ---   ┆ --- │\n",
       "│ u32  ┆ u32         ┆ u32  ┆ u32   ┆ u32 │\n",
       "╞══════╪═════════════╪══════╪═══════╪═════╡\n",
       "│ 0    ┆ 0           ┆ 0    ┆ 0     ┆ 0   │\n",
       "└──────┴─────────────┴──────┴───────┴─────┘"
      ]
     },
     "execution_count": 14,
     "metadata": {},
     "output_type": "execute_result"
    }
   ],
   "source": [
    "train_data_dt_plot.select([pl.all().null_count()])"
   ]
  },
  {
   "cell_type": "code",
   "execution_count": 16,
   "metadata": {},
   "outputs": [
    {
     "data": {
      "text/html": [
       "<div><style>\n",
       ".dataframe > thead > tr > th,\n",
       ".dataframe > tbody > tr > td {\n",
       "  text-align: right;\n",
       "}\n",
       "</style>\n",
       "<small>shape: (7, 2)</small><table border=\"1\" class=\"dataframe\"><thead><tr><th>year</th><th>count</th></tr><tr><td>i32</td><td>u32</td></tr></thead><tbody><tr><td>2015</td><td>214</td></tr><tr><td>2016</td><td>361</td></tr><tr><td>2017</td><td>353</td></tr><tr><td>2018</td><td>352</td></tr><tr><td>2019</td><td>360</td></tr><tr><td>2020</td><td>358</td></tr><tr><td>2021</td><td>356</td></tr></tbody></table></div>"
      ],
      "text/plain": [
       "shape: (7, 2)\n",
       "┌──────┬───────┐\n",
       "│ year ┆ count │\n",
       "│ ---  ┆ ---   │\n",
       "│ i32  ┆ u32   │\n",
       "╞══════╪═══════╡\n",
       "│ 2015 ┆ 214   │\n",
       "│ 2016 ┆ 361   │\n",
       "│ 2017 ┆ 353   │\n",
       "│ 2018 ┆ 352   │\n",
       "│ 2019 ┆ 360   │\n",
       "│ 2020 ┆ 358   │\n",
       "│ 2021 ┆ 356   │\n",
       "└──────┴───────┘"
      ]
     },
     "execution_count": 16,
     "metadata": {},
     "output_type": "execute_result"
    }
   ],
   "source": [
    "# how many data points we have per year\n",
    "train_data_dt_plot.groupby(\"year\").count().sort(\"year\")"
   ]
  },
  {
   "attachments": {},
   "cell_type": "markdown",
   "metadata": {},
   "source": [
    "So, one day can have actually 365 or 366 days. So in the dataset we're missing some days. "
   ]
  },
  {
   "cell_type": "code",
   "execution_count": 22,
   "metadata": {},
   "outputs": [
    {
     "data": {
      "text/html": [
       "   <div id=\"7xaqGz\"></div>\n",
       "   <script type=\"text/javascript\" data-lets-plot-script=\"plot\">\n",
       "       (function() {\n",
       "           var plotSpec={\n",
       "\"data\":{\n",
       "\"year\":[2015.0,2015.0,2015.0,2015.0,2015.0,2015.0,2015.0,2015.0,2015.0,2015.0,2015.0,2016.0,2016.0,2016.0,2016.0,2016.0,2016.0,2016.0,2016.0,2016.0,2016.0,2016.0,2016.0,2017.0,2017.0,2017.0,2017.0,2017.0,2017.0,2017.0,2017.0,2017.0,2017.0,2017.0,2017.0,2018.0,2018.0,2018.0,2018.0,2018.0,2018.0,2018.0,2018.0,2018.0,2018.0,2018.0,2018.0,2019.0,2019.0,2019.0,2019.0,2019.0,2019.0,2019.0,2019.0,2019.0,2019.0,2019.0,2019.0,2020.0,2020.0,2020.0,2020.0,2020.0,2020.0,2020.0,2020.0,2020.0,2020.0,2020.0,2020.0,2021.0,2021.0,2021.0,2021.0,2021.0,2021.0,2021.0,2021.0,2021.0,2021.0,2021.0,2021.0],\n",
       "\"month\":[2.0,3.0,4.0,5.0,6.0,7.0,8.0,9.0,10.0,11.0,12.0,1.0,2.0,3.0,4.0,5.0,6.0,7.0,8.0,9.0,10.0,11.0,12.0,1.0,2.0,3.0,4.0,5.0,6.0,7.0,8.0,9.0,10.0,11.0,12.0,1.0,2.0,3.0,4.0,5.0,6.0,7.0,8.0,9.0,10.0,11.0,12.0,1.0,2.0,3.0,4.0,5.0,6.0,7.0,8.0,9.0,10.0,11.0,12.0,1.0,2.0,3.0,4.0,5.0,6.0,7.0,8.0,9.0,10.0,11.0,12.0,1.0,2.0,3.0,4.0,5.0,6.0,7.0,8.0,9.0,10.0,11.0,12.0],\n",
       "\"count\":[10.0,15.0,6.0,11.0,3.0,16.0,31.0,30.0,31.0,30.0,31.0,31.0,29.0,28.0,29.0,31.0,30.0,31.0,31.0,30.0,31.0,29.0,31.0,29.0,24.0,28.0,30.0,31.0,29.0,31.0,31.0,29.0,30.0,30.0,31.0,31.0,28.0,31.0,30.0,30.0,27.0,31.0,31.0,30.0,31.0,30.0,22.0,31.0,28.0,31.0,28.0,29.0,30.0,31.0,30.0,30.0,31.0,30.0,31.0,31.0,29.0,30.0,30.0,31.0,29.0,30.0,31.0,26.0,31.0,29.0,31.0,31.0,27.0,31.0,29.0,31.0,29.0,31.0,30.0,28.0,31.0,29.0,29.0]\n",
       "},\n",
       "\"mapping\":{\n",
       "\"x\":\"month\",\n",
       "\"y\":\"count\"\n",
       "},\n",
       "\"data_meta\":{\n",
       "},\n",
       "\"facet\":{\n",
       "\"name\":\"grid\",\n",
       "\"x\":\"year\",\n",
       "\"scales\":\"free\",\n",
       "\"x_order\":1,\n",
       "\"y_order\":1\n",
       "},\n",
       "\"kind\":\"plot\",\n",
       "\"scales\":[],\n",
       "\"layers\":[{\n",
       "\"geom\":\"bar\",\n",
       "\"stat\":\"identity\",\n",
       "\"mapping\":{\n",
       "},\n",
       "\"data_meta\":{\n",
       "},\n",
       "\"data\":{\n",
       "}\n",
       "}],\n",
       "\"metainfo_list\":[]\n",
       "};\n",
       "           var plotContainer = document.getElementById(\"7xaqGz\");\n",
       "           window.letsPlotCall(function() {{\n",
       "               LetsPlot.buildPlotFromProcessedSpecs(plotSpec, -1, -1, plotContainer);\n",
       "           }});\n",
       "       })();    \n",
       "   </script>"
      ],
      "text/plain": [
       "<lets_plot.plot.core.PlotSpec at 0x7feebb22a560>"
      ]
     },
     "execution_count": 22,
     "metadata": {},
     "output_type": "execute_result"
    }
   ],
   "source": [
    "train_data_grouped_year_month = (\n",
    "    train_data_dt_plot\n",
    "    .groupby([\"year\", \"month\"]).count().sort([\"year\", \"month\"])\n",
    ")\n",
    "\n",
    "(\n",
    "    ggplot(train_data_grouped_year_month, aes(\"month\", \"count\"))\n",
    "    + geom_bar(stat=\"identity\")\n",
    "    + facet_grid(\"year\", scales=\"free\")\n",
    ")"
   ]
  },
  {
   "attachments": {},
   "cell_type": "markdown",
   "metadata": {},
   "source": [
    "- No missing data"
   ]
  },
  {
   "cell_type": "code",
   "execution_count": 54,
   "metadata": {},
   "outputs": [],
   "source": [
    "def get_max_days_by_month(year, month=1):\n",
    "    month_days = calendar.monthcalendar(year, month)\n",
    "    return max(month_days[-1])\n",
    "\n",
    "max_days = []\n",
    "for rows in train_data_grouped_year_month.rows():\n",
    "    year = rows[0]\n",
    "    month = rows[1]\n",
    "    max_days.append(get_max_days_by_month(year, month))\n"
   ]
  },
  {
   "cell_type": "code",
   "execution_count": 61,
   "metadata": {},
   "outputs": [],
   "source": [
    "train_data_grouped_max_days = train_data_grouped_year_month.with_columns(\n",
    "    [pl.Series(\"max_days\", max_days).alias(\"max_days\")]\n",
    ")\n"
   ]
  },
  {
   "cell_type": "code",
   "execution_count": 67,
   "metadata": {},
   "outputs": [
    {
     "data": {
      "text/html": [
       "   <div id=\"GE6cSs\"></div>\n",
       "   <script type=\"text/javascript\" data-lets-plot-script=\"plot\">\n",
       "       (function() {\n",
       "           var plotSpec={\n",
       "\"data\":{\n",
       "\"year\":[2015.0,2015.0,2015.0,2015.0,2015.0,2015.0,2015.0,2015.0,2015.0,2015.0,2015.0,2016.0,2016.0,2016.0,2016.0,2016.0,2016.0,2016.0,2016.0,2016.0,2016.0,2016.0,2016.0,2017.0,2017.0,2017.0,2017.0,2017.0,2017.0,2017.0,2017.0,2017.0,2017.0,2017.0,2017.0,2018.0,2018.0,2018.0,2018.0,2018.0,2018.0,2018.0,2018.0,2018.0,2018.0,2018.0,2018.0,2019.0,2019.0,2019.0,2019.0,2019.0,2019.0,2019.0,2019.0,2019.0,2019.0,2019.0,2019.0,2020.0,2020.0,2020.0,2020.0,2020.0,2020.0,2020.0,2020.0,2020.0,2020.0,2020.0,2020.0,2021.0,2021.0,2021.0,2021.0,2021.0,2021.0,2021.0,2021.0,2021.0,2021.0,2021.0,2021.0],\n",
       "\"month\":[2.0,3.0,4.0,5.0,6.0,7.0,8.0,9.0,10.0,11.0,12.0,1.0,2.0,3.0,4.0,5.0,6.0,7.0,8.0,9.0,10.0,11.0,12.0,1.0,2.0,3.0,4.0,5.0,6.0,7.0,8.0,9.0,10.0,11.0,12.0,1.0,2.0,3.0,4.0,5.0,6.0,7.0,8.0,9.0,10.0,11.0,12.0,1.0,2.0,3.0,4.0,5.0,6.0,7.0,8.0,9.0,10.0,11.0,12.0,1.0,2.0,3.0,4.0,5.0,6.0,7.0,8.0,9.0,10.0,11.0,12.0,1.0,2.0,3.0,4.0,5.0,6.0,7.0,8.0,9.0,10.0,11.0,12.0],\n",
       "\"count\":[10.0,15.0,6.0,11.0,3.0,16.0,31.0,30.0,31.0,30.0,31.0,31.0,29.0,28.0,29.0,31.0,30.0,31.0,31.0,30.0,31.0,29.0,31.0,29.0,24.0,28.0,30.0,31.0,29.0,31.0,31.0,29.0,30.0,30.0,31.0,31.0,28.0,31.0,30.0,30.0,27.0,31.0,31.0,30.0,31.0,30.0,22.0,31.0,28.0,31.0,28.0,29.0,30.0,31.0,30.0,30.0,31.0,30.0,31.0,31.0,29.0,30.0,30.0,31.0,29.0,30.0,31.0,26.0,31.0,29.0,31.0,31.0,27.0,31.0,29.0,31.0,29.0,31.0,30.0,28.0,31.0,29.0,29.0],\n",
       "\"max_days\":[28.0,31.0,30.0,31.0,30.0,31.0,31.0,30.0,31.0,30.0,31.0,31.0,29.0,31.0,30.0,31.0,30.0,31.0,31.0,30.0,31.0,30.0,31.0,31.0,28.0,31.0,30.0,31.0,30.0,31.0,31.0,30.0,31.0,30.0,31.0,31.0,28.0,31.0,30.0,31.0,30.0,31.0,31.0,30.0,31.0,30.0,31.0,31.0,28.0,31.0,30.0,31.0,30.0,31.0,31.0,30.0,31.0,30.0,31.0,31.0,29.0,31.0,30.0,31.0,30.0,31.0,31.0,30.0,31.0,30.0,31.0,31.0,28.0,31.0,30.0,31.0,30.0,31.0,31.0,30.0,31.0,30.0,31.0]\n",
       "},\n",
       "\"mapping\":{\n",
       "\"x\":\"month\",\n",
       "\"y\":\"max_days\"\n",
       "},\n",
       "\"data_meta\":{\n",
       "},\n",
       "\"facet\":{\n",
       "\"name\":\"grid\",\n",
       "\"x\":\"year\",\n",
       "\"scales\":\"free\",\n",
       "\"x_order\":1,\n",
       "\"y_order\":1\n",
       "},\n",
       "\"kind\":\"plot\",\n",
       "\"scales\":[],\n",
       "\"layers\":[{\n",
       "\"geom\":\"bar\",\n",
       "\"stat\":\"identity\",\n",
       "\"mapping\":{\n",
       "},\n",
       "\"data_meta\":{\n",
       "},\n",
       "\"fill\":\"red\",\n",
       "\"data\":{\n",
       "}\n",
       "},{\n",
       "\"geom\":\"bar\",\n",
       "\"stat\":\"identity\",\n",
       "\"mapping\":{\n",
       "\"y\":\"count\"\n",
       "},\n",
       "\"data_meta\":{\n",
       "},\n",
       "\"data\":{\n",
       "}\n",
       "}],\n",
       "\"metainfo_list\":[]\n",
       "};\n",
       "           var plotContainer = document.getElementById(\"GE6cSs\");\n",
       "           window.letsPlotCall(function() {{\n",
       "               LetsPlot.buildPlotFromProcessedSpecs(plotSpec, -1, -1, plotContainer);\n",
       "           }});\n",
       "       })();    \n",
       "   </script>"
      ],
      "text/plain": [
       "<lets_plot.plot.core.PlotSpec at 0x7feeba209150>"
      ]
     },
     "execution_count": 67,
     "metadata": {},
     "output_type": "execute_result"
    }
   ],
   "source": [
    "(\n",
    "    ggplot(train_data_grouped_max_days, aes(\"month\", \"max_days\"))\n",
    "    + geom_bar(stat=\"identity\", fill=\"red\")\n",
    "    + geom_bar(aes(y=\"count\"), stat=\"identity\")\n",
    "    + facet_grid(\"year\", scales=\"free\")\n",
    ")"
   ]
  },
  {
   "attachments": {},
   "cell_type": "markdown",
   "metadata": {},
   "source": [
    "By this way we're seeing every lake of days on the dataset, and probably we'll need to input some values and create those dates that are missing. "
   ]
  },
  {
   "cell_type": "code",
   "execution_count": 82,
   "metadata": {},
   "outputs": [
    {
     "data": {
      "text/html": [
       "<div><style>\n",
       ".dataframe > thead > tr > th,\n",
       ".dataframe > tbody > tr > td {\n",
       "  text-align: right;\n",
       "}\n",
       "</style>\n",
       "<small>shape: (5, 1)</small><table border=\"1\" class=\"dataframe\"><thead><tr><th>date</th></tr><tr><td>datetime[μs]</td></tr></thead><tbody><tr><td>2015-02-19 00:00:00</td></tr><tr><td>2015-02-20 00:00:00</td></tr><tr><td>2015-02-21 00:00:00</td></tr><tr><td>2015-02-22 00:00:00</td></tr><tr><td>2015-02-23 00:00:00</td></tr></tbody></table></div>"
      ],
      "text/plain": [
       "shape: (5, 1)\n",
       "┌─────────────────────┐\n",
       "│ date                │\n",
       "│ ---                 │\n",
       "│ datetime[μs]        │\n",
       "╞═════════════════════╡\n",
       "│ 2015-02-19 00:00:00 │\n",
       "│ 2015-02-20 00:00:00 │\n",
       "│ 2015-02-21 00:00:00 │\n",
       "│ 2015-02-22 00:00:00 │\n",
       "│ 2015-02-23 00:00:00 │\n",
       "└─────────────────────┘"
      ]
     },
     "execution_count": 82,
     "metadata": {},
     "output_type": "execute_result"
    }
   ],
   "source": [
    "correct_date_range = pl.date_range(datetime(2015, 2, 19), datetime(2021, 12, 31), \"1d\", name=\"date\")\n",
    "correct_date_range_df = pl.DataFrame({\"date\": correct_date_range})\n",
    "correct_date_range_df.head()"
   ]
  },
  {
   "cell_type": "code",
   "execution_count": 84,
   "metadata": {},
   "outputs": [],
   "source": [
    "train_data_fixed_df = correct_date_range_df.join(\n",
    "    train_data_dt,\n",
    "    on=\"date\",\n",
    "    how=\"left\",\n",
    ")"
   ]
  },
  {
   "cell_type": "code",
   "execution_count": 86,
   "metadata": {},
   "outputs": [
    {
     "data": {
      "text/plain": [
       "(2508, 2)"
      ]
     },
     "execution_count": 86,
     "metadata": {},
     "output_type": "execute_result"
    }
   ],
   "source": [
    "train_data_fixed_df.shape"
   ]
  },
  {
   "cell_type": "code",
   "execution_count": 87,
   "metadata": {},
   "outputs": [],
   "source": [
    "train_data_fixed_df.write_parquet(\"data/pog-sleep-data/train_dt_fixed.parquet\")"
   ]
  },
  {
   "cell_type": "code",
   "execution_count": null,
   "metadata": {},
   "outputs": [],
   "source": []
  }
 ],
 "metadata": {
  "kernelspec": {
   "display_name": "rob-sleep-hour-prediction-OIlHryCd",
   "language": "python",
   "name": "python3"
  },
  "language_info": {
   "codemirror_mode": {
    "name": "ipython",
    "version": 3
   },
   "file_extension": ".py",
   "mimetype": "text/x-python",
   "name": "python",
   "nbconvert_exporter": "python",
   "pygments_lexer": "ipython3",
   "version": "3.10.7"
  },
  "orig_nbformat": 4
 },
 "nbformat": 4,
 "nbformat_minor": 2
}
