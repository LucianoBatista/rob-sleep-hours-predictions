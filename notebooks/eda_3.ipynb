{
 "cells": [
  {
   "cell_type": "code",
   "execution_count": 1,
   "metadata": {},
   "outputs": [],
   "source": [
    "import polars as pl"
   ]
  },
  {
   "cell_type": "code",
   "execution_count": 2,
   "metadata": {},
   "outputs": [
    {
     "data": {
      "text/html": [
       "<div><style>\n",
       ".dataframe > thead > tr > th,\n",
       ".dataframe > tbody > tr > td {\n",
       "  text-align: right;\n",
       "}\n",
       "</style>\n",
       "<small>shape: (5, 2)</small><table border=\"1\" class=\"dataframe\"><thead><tr><th>date</th><th>sleep_hours</th></tr><tr><td>datetime[μs]</td><td>f64</td></tr></thead><tbody><tr><td>2015-02-19 00:00:00</td><td>6.4</td></tr><tr><td>2015-02-20 00:00:00</td><td>7.583333</td></tr><tr><td>2015-02-21 00:00:00</td><td>6.35</td></tr><tr><td>2015-02-22 00:00:00</td><td>6.5</td></tr><tr><td>2015-02-23 00:00:00</td><td>8.916667</td></tr></tbody></table></div>"
      ],
      "text/plain": [
       "shape: (5, 2)\n",
       "┌─────────────────────┬─────────────┐\n",
       "│ date                ┆ sleep_hours │\n",
       "│ ---                 ┆ ---         │\n",
       "│ datetime[μs]        ┆ f64         │\n",
       "╞═════════════════════╪═════════════╡\n",
       "│ 2015-02-19 00:00:00 ┆ 6.4         │\n",
       "│ 2015-02-20 00:00:00 ┆ 7.583333    │\n",
       "│ 2015-02-21 00:00:00 ┆ 6.35        │\n",
       "│ 2015-02-22 00:00:00 ┆ 6.5         │\n",
       "│ 2015-02-23 00:00:00 ┆ 8.916667    │\n",
       "└─────────────────────┴─────────────┘"
      ]
     },
     "execution_count": 2,
     "metadata": {},
     "output_type": "execute_result"
    }
   ],
   "source": [
    "train_data = pl.read_parquet(\"data/pog-sleep-data/train_dt_fixed.parquet\")\n",
    "train_data.head()"
   ]
  },
  {
   "cell_type": "code",
   "execution_count": null,
   "metadata": {},
   "outputs": [],
   "source": []
  }
 ],
 "metadata": {
  "kernelspec": {
   "display_name": "rob-sleep-hour-prediction-OIlHryCd",
   "language": "python",
   "name": "python3"
  },
  "language_info": {
   "codemirror_mode": {
    "name": "ipython",
    "version": 3
   },
   "file_extension": ".py",
   "mimetype": "text/x-python",
   "name": "python",
   "nbconvert_exporter": "python",
   "pygments_lexer": "ipython3",
   "version": "3.10.7"
  },
  "orig_nbformat": 4
 },
 "nbformat": 4,
 "nbformat_minor": 2
}
